{
 "cells": [
  {
   "cell_type": "code",
   "execution_count": 30,
   "metadata": {},
   "outputs": [],
   "source": [
    "from selenium import webdriver\n",
    "from bs4 import BeautifulSoup\n",
    "import time\n",
    "import pandas as pd"
   ]
  },
  {
   "cell_type": "code",
   "execution_count": 31,
   "metadata": {},
   "outputs": [],
   "source": [
    "def get_html(url):\n",
    "    \"\"\"\n",
    "    get html of mercular flash sale website\n",
    "    params: url\n",
    "    return: html\n",
    "    \"\"\"\n",
    "    \n",
    "    driver = webdriver.Chrome()\n",
    "    driver.get(url)\n",
    "    time.sleep(5)\n",
    "    html = driver.page_source\n",
    "    driver.close()\n",
    "    return html"
   ]
  },
  {
   "cell_type": "code",
   "execution_count": 32,
   "metadata": {},
   "outputs": [],
   "source": [
    "def get_data(html):\n",
    "    \"\"\"\n",
    "    extract data from html\n",
    "    param: html\n",
    "    return: result_dict\n",
    "    \"\"\"\n",
    "    \n",
    "    soup = BeautifulSoup(html)\n",
    "\n",
    "    result_dict = {}\n",
    "\n",
    "    name_div = soup.find_all(\"span\", {\"class\": \"MuiTypography-root MuiTypography-body1 css-1m33z6a\"})\n",
    "    percent_div = soup.find_all(\"span\", {\"class\": \"MuiChip-label MuiChip-labelSmall css-tavflp\"})\n",
    "    discount_div = soup.find_all(\"div\", {\"class\": \"MuiTypography-root MuiTypography-subtitle1 css-16uoo7w\"})\n",
    "    price_div = soup.find_all(\"div\", {\"class\": \"MuiTypography-root MuiTypography-subtitle1 css-18xjxhz\"})\n",
    "\n",
    "    for index, name in enumerate(name_div):\n",
    "        name = name_div[index].text\n",
    "        percent = percent_div[index].text.replace(\"-\", \"\").replace(\"%\", \"\")\n",
    "        discount = discount_div[index].text.replace(\"฿\", \"\")\n",
    "        price = price_div[index].text.replace(\"฿\", \"\")\n",
    "        result_dict[index] = {\n",
    "            \"product_name\": name,\n",
    "            \"percent_discount\": percent,\n",
    "            \"discounted_price\": discount,\n",
    "            \"original_price\": price\n",
    "        }\n",
    "    \n",
    "    return result_dict"
   ]
  },
  {
   "cell_type": "code",
   "execution_count": 33,
   "metadata": {},
   "outputs": [],
   "source": [
    "def export_csv(result_dict):\n",
    "    \"\"\"\n",
    "    export result to csv file\n",
    "    param: result_dict\n",
    "    \"\"\"\n",
    "\n",
    "    df = pd.DataFrame(result_dict).transpose()\n",
    "    df.to_csv(\"flash_sale.csv\", index=False)"
   ]
  },
  {
   "cell_type": "code",
   "execution_count": 35,
   "metadata": {},
   "outputs": [],
   "source": [
    "html = get_html(\"https://www.mercular.com/flash-sale\")\n",
    "result_dict = get_data(html)\n",
    "export_csv(result_dict)"
   ]
  }
 ],
 "metadata": {
  "kernelspec": {
   "display_name": "Python 3",
   "language": "python",
   "name": "python3"
  },
  "language_info": {
   "codemirror_mode": {
    "name": "ipython",
    "version": 3
   },
   "file_extension": ".py",
   "mimetype": "text/x-python",
   "name": "python",
   "nbconvert_exporter": "python",
   "pygments_lexer": "ipython3",
   "version": "3.11.1"
  },
  "orig_nbformat": 4
 },
 "nbformat": 4,
 "nbformat_minor": 2
}
